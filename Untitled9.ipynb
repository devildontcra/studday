{
  "nbformat": 4,
  "nbformat_minor": 0,
  "metadata": {
    "colab": {
      "provenance": [],
      "authorship_tag": "ABX9TyNhZA7kXNYqoVfaGJS7OKNl",
      "include_colab_link": true
    },
    "kernelspec": {
      "name": "python3",
      "display_name": "Python 3"
    },
    "language_info": {
      "name": "python"
    }
  },
  "cells": [
    {
      "cell_type": "markdown",
      "metadata": {
        "id": "view-in-github",
        "colab_type": "text"
      },
      "source": [
        "<a href=\"https://colab.research.google.com/github/devildontcra/studday/blob/main/Untitled9.ipynb\" target=\"_parent\"><img src=\"https://colab.research.google.com/assets/colab-badge.svg\" alt=\"Open In Colab\"/></a>"
      ]
    },
    {
      "cell_type": "code",
      "execution_count": 49,
      "metadata": {
        "colab": {
          "base_uri": "https://localhost:8080/"
        },
        "id": "KJLwlwquvhQ2",
        "outputId": "71491851-1988-4c2f-a216-a5b02fa4344e"
      },
      "outputs": [
        {
          "output_type": "stream",
          "name": "stdout",
          "text": [
            "2207 876234:\n",
            "p\n",
            "False\n",
            "p\n",
            "False\n",
            "p\n",
            "False\n",
            "Аристарх Павлов:\n",
            "hi\n"
          ]
        }
      ],
      "source": [
        "from re import S\n",
        "documents = [\n",
        "{\"type:\": \"passport:\", \"number:\": \"2207 876234:\", \"name:\": \"Василий Гупкин:\"},\n",
        "{\"type:\": \"invoice:\", \"number:\": \"11-2:\", \"name:\": \"Геннадий Покемонов:\"},\n",
        "{\"type:\": \"insurance:\", \"number:\": \"10006:\", \"name:\": \"Аристарх Павлов:\"}\n",
        "]\n",
        "\n",
        "\n",
        "directories = {\n",
        "\"1:\": [\"2207 876234:\", \"11-2:\"],\n",
        "\"2:\": [\"10006:\"],\n",
        "\"3:\": []\n",
        "}\n",
        "\n",
        "print(documents[0]  [\"number:\"])\n",
        "\n",
        "def f():\n",
        "  for list_ in documents:\n",
        "    number_comand = input(\"\")\n",
        "    print(list_[\"number:\"] == 10006)\n",
        "    if number_comand == \"p\" and list_[\"number:\"] == \"10006:\":\n",
        "        print(list_[\"name:\"])\n",
        "    elif  number_comand == \"s\" and list_[\"number:\"] ==  \"10006:\":\n",
        "        print(list_[\"Документ хранится на полке: 2\"])\n",
        "\n",
        "f()\n",
        "\n",
        "\n",
        "\n"
      ]
    },
    {
      "cell_type": "code",
      "source": [
        "\n",
        "\n"
      ],
      "metadata": {
        "id": "v2Bgw9eAvksT"
      },
      "execution_count": 2,
      "outputs": []
    }
  ]
}